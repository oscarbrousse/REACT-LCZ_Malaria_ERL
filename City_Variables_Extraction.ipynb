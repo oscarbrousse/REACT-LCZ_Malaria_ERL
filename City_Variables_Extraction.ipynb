{
 "cells": [
  {
   "cell_type": "code",
   "execution_count": 31,
   "metadata": {
    "collapsed": true
   },
   "outputs": [],
   "source": [
    "## Import libraries needed for setting parameters of operating system \n",
    "import os\n",
    "import sys\n",
    "\n",
    "## Import library for temporary files creation \n",
    "import tempfile \n",
    "\n",
    "## Import Pandas library\n",
    "import pandas as pd\n",
    "\n",
    "## Import Numpy library\n",
    "import numpy\n",
    "\n",
    "## Import Psycopg2 library (interection with postgres database)\n",
    "import psycopg2 as pg\n",
    "\n",
    "# Import Math library (usefull for rounding number, e.g.)\n",
    "import math\n",
    "\n",
    "## Import Subprocess + subprocess.call\n",
    "import subprocess\n",
    "from subprocess import call, Popen, PIPE, STDOUT\n",
    "## Import library for file copying \n",
    "import shutil"
   ]
  },
  {
   "cell_type": "code",
   "execution_count": 32,
   "metadata": {
    "collapsed": true
   },
   "outputs": [],
   "source": [
    "import os\n",
    "import atexit\n",
    "## Import GRASS GIS Python Scripting Library\n",
    "\n",
    "\n",
    "## Import library for temporary files creation \n",
    "import tempfile \n",
    "\n",
    "## Import Numpy library\n",
    "import numpy as np\n",
    "\n",
    "## import math library\n",
    "import math as ma\n",
    "\n",
    "## import pyplot library \n",
    "import matplotlib\n",
    "matplotlib.use('Agg') #use a non-interactive backend: prevent the figure from popping up  \n",
    "import matplotlib.pyplot as plt\n",
    "import sqlite3\n",
    "## Import library for managing time in python\n",
    "import time  "
   ]
  },
  {
   "cell_type": "code",
   "execution_count": 33,
   "metadata": {
    "collapsed": false
   },
   "outputs": [],
   "source": [
    "try:\n",
    "    import pandas as pd\n",
    "except:\n",
    "    gscript.fatal(\"Pandas is not installed \")\n",
    "\n",
    "## Import Random Forest library\n",
    "try:\n",
    "    from sklearn.ensemble import RandomForestRegressor\n",
    "except:\n",
    "     gscript.fatal(\"Scikit learn 0.18 or newer is not installed\")"
   ]
  },
  {
   "cell_type": "code",
   "execution_count": 34,
   "metadata": {
    "collapsed": true
   },
   "outputs": [],
   "source": [
    "\n",
    "grass7bin_win = 'C:\\\\Program Files\\\\GRASS GIS 7.4.0\\\\grass74svn.bat'\n",
    "\n",
    "import numpy## Define GRASS GIS environment variables\n",
    "os.environ['GISBASE'] = 'C:\\\\Program Files\\\\GRASS GIS 7.4.0'\n",
    "os.environ['PATH'] = 'C:\\\\Program Files\\\\GRASS GIS 7.4.0\\\\lib;C:\\\\Program Files\\\\GRASS GIS 7.4.0\\\\bin;C:\\\\Program Files\\\\GRASS GIS 7.4.0\\\\extrabin' + os.pathsep + os.environ['PATH']\n",
    "os.environ['PATH'] = 'C:\\\\Program Files\\\\GRASS GIS 7.4.0\\\\etc;C:\\\\Program Files\\\\GRASS GIS 7.4.0\\\\etc\\\\python;C:\\\\Python27' + os.pathsep + os.environ['PATH']\n",
    "os.environ['PATH'] = 'C:\\\\Program Files\\\\GRASS GIS 7.4.0\\\\Python27;C:\\\\Users\\\\Stefanos\\\\AppData\\\\Roaming\\\\GRASS7\\\\addons\\\\scripts' + os.pathsep + os.environ['PATH']\n",
    "os.environ['PATH'] = 'C:\\\\ProgramData\\\\Anaconda2\\\\Lib\\\\site-packages' + os.pathsep + os.environ['PATH']\n",
    "os.environ['PATH'] = 'C:\\\\Program Files\\\\GRASS GIS 7.4.0\\\\scripts' + os.pathsep + os.environ['PATH']\n",
    "os.environ['PYTHONLIB'] = 'C:\\\\Python27'\n",
    "os.environ['PYTHONPATH'] = 'C:\\\\Program Files\\\\GRASS GIS 7.4.0\\\\etc\\\\python'\n",
    "os.environ['GIS_LOCK'] = '$$'\n",
    "os.environ['GISRC'] = 'C:\\\\Users\\\\Stefanos\\\\AppData\\\\Roaming\\\\GRASS7\\\\rc'\n",
    "os.environ['GDAL_DATA'] = 'C:\\\\Program Files\\\\GRASS GIS 7.4.0\\\\share\\\\gdal'"
   ]
  },
  {
   "cell_type": "code",
   "execution_count": 35,
   "metadata": {
    "collapsed": true
   },
   "outputs": [],
   "source": [
    "## Define GRASS-Python environment\n",
    "sys.path.append(os.path.join(os.environ['GISBASE'],'etc','python'))"
   ]
  },
  {
   "cell_type": "code",
   "execution_count": 36,
   "metadata": {
    "collapsed": true
   },
   "outputs": [],
   "source": [
    "## Add the R software directory to the general \n",
    "os.environ['PATH'] = 'C:\\\\Program Files\\\\R\\\\R-3.3.3\\\\bin' + os.pathsep + os.environ['PATH']\n",
    "\n",
    "## Set R software specific environment variables\n",
    "os.environ['R_HOME'] = 'C:\\Program Files\\R\\R-3.3.3'\n",
    "os.environ['R_ENVIRON'] = 'C:\\Program Files\\R\\R-3.3.3\\etc\\x64'\n",
    "os.environ['R_DOC_DIR'] = 'C:\\Program Files\\R\\R-3.3.3\\doc'\n",
    "os.environ['R_LIBS'] = 'C:\\Program Files\\R\\R-3.3.3\\library'\n",
    "os.environ['R_LIBS_USER'] = 'C:\\R_LIBS_USER\\win-library\\\\3.3'"
   ]
  },
  {
   "cell_type": "code",
   "execution_count": 37,
   "metadata": {
    "collapsed": false
   },
   "outputs": [
    {
     "name": "stdout",
     "output_type": "stream",
     "text": [
      "('TMP', 'C:\\\\Users\\\\Stefanos\\\\AppData\\\\Local\\\\Temp')\n",
      "('COMPUTERNAME', 'DESKTOP-NGHFAMI')\n",
      "('VS140COMNTOOLS', 'C:\\\\Program Files (x86)\\\\Microsoft Visual Studio 14.0\\\\Common7\\\\Tools\\\\')\n",
      "('GEODA_GDAL_DATA', 'C:\\\\Program Files\\\\GeoDa Software\\\\data')\n",
      "('LIB', 'C:\\\\Program Files (x86)\\\\Windows Kits\\\\10\\\\Include\\\\10.0.10150.0\\\\ucrt\\\\x64')\n",
      "('USERDOMAIN', 'DESKTOP-NGHFAMI')\n",
      "('PROCESSOR_ARCHITECTURE', 'AMD64')\n",
      "('PSMODULEPATH', 'C:\\\\Program Files\\\\WindowsPowerShell\\\\Modules;C:\\\\WINDOWS\\\\system32\\\\WindowsPowerShell\\\\v1.0\\\\Modules')\n",
      "('SEN2THREE_HOME', 'C:\\\\Users\\\\Stefanos\\\\documents\\\\sen2three')\n",
      "('PGPASSWORD', '5149129b')\n",
      "('POSTGIS_GDAL_ENABLED_DRIVERS', 'GTiff PNG JPEG GIF XYZ DTED USGSDEM AAIGrid')\n",
      "('PROGRAMFILES', 'C:\\\\Program Files')\n",
      "('PROCESSOR_REVISION', '2d07')\n",
      "('PATH', 'C:\\\\Program Files\\\\R\\\\R-3.3.3\\\\bin;C:\\\\Program Files\\\\GRASS GIS 7.4.0\\\\scripts;C:\\\\ProgramData\\\\Anaconda2\\\\Lib\\\\site-packages;C:\\\\Program Files\\\\GRASS GIS 7.4.0\\\\Python27;C:\\\\Users\\\\Stefanos\\\\AppData\\\\Roaming\\\\GRASS7\\\\addons\\\\scripts;C:\\\\Program Files\\\\GRASS GIS 7.4.0\\\\etc;C:\\\\Program Files\\\\GRASS GIS 7.4.0\\\\etc\\\\python;C:\\\\Python27;C:\\\\Program Files\\\\GRASS GIS 7.4.0\\\\lib;C:\\\\Program Files\\\\GRASS GIS 7.4.0\\\\bin;C:\\\\Program Files\\\\GRASS GIS 7.4.0\\\\extrabin;C:\\\\Program Files\\\\R\\\\R-3.3.3\\\\bin;C:\\\\Program Files\\\\GRASS GIS 7.4.0\\\\scripts;C:\\\\ProgramData\\\\Anaconda2\\\\Lib\\\\site-packages;C:\\\\Program Files\\\\GRASS GIS 7.4.0\\\\Python27;C:\\\\Users\\\\Stefanos\\\\AppData\\\\Roaming\\\\GRASS7\\\\addons\\\\scripts;C:\\\\Program Files\\\\GRASS GIS 7.4.0\\\\etc;C:\\\\Program Files\\\\GRASS GIS 7.4.0\\\\etc\\\\python;C:\\\\Python27;C:\\\\Program Files\\\\GRASS GIS 7.4.0\\\\lib;C:\\\\Program Files\\\\GRASS GIS 7.4.0\\\\bin;C:\\\\Program Files\\\\GRASS GIS 7.4.0\\\\extrabin;C:\\\\ProgramData\\\\Anaconda2\\\\Library\\\\bin;C:\\\\ProgramData\\\\Anaconda2\\\\Library\\\\bin;C:\\\\ProgramData\\\\Anaconda2;C:\\\\ProgramData\\\\Anaconda2\\\\Library\\\\mingw-w64\\\\bin;C:\\\\ProgramData\\\\Anaconda2\\\\Library\\\\usr\\\\bin;C:\\\\ProgramData\\\\Anaconda2\\\\Library\\\\bin;C:\\\\ProgramData\\\\Anaconda2\\\\Scripts;C:\\\\ProgramData\\\\Anaconda2\\\\Library\\\\bin;C:\\\\Program Files (x86)\\\\Common Files\\\\Oracle\\\\Java\\\\javapath;C:\\\\PCI Geomatics\\\\Geomatica 2018\\\\exe;C:\\\\ProgramData\\\\Oracle\\\\Java\\\\javapath;C:\\\\WINDOWS\\\\system32;C:\\\\WINDOWS;C:\\\\WINDOWS\\\\System32\\\\Wbem;C:\\\\WINDOWS\\\\System32\\\\WindowsPowerShell\\\\v1.0\\\\;C:\\\\ProgramData\\\\Anaconda2;C:\\\\ProgramData\\\\Anaconda2\\\\Scripts;C:\\\\ProgramData\\\\Anaconda2\\\\Library\\\\bin;C:\\\\Program Files\\\\Git\\\\cmd;C:\\\\Program Files\\\\PostgreSQL\\\\9.6\\\\bin;C:\\\\OSM_Streetblocks_extraction-master\\\\osm2pgsql-bin;C:\\\\Users\\\\Stefanos\\\\Desktop\\\\Jupyter;C:\\\\WINDOWS\\\\System32\\\\OpenSSH\\\\;C:\\\\Program Files\\\\HDF_Group\\\\HDF5\\\\1.8.17\\\\bin\\\\;C:\\\\Program Files (x86)\\\\Windows Kits\\\\8.1\\\\Windows Performance Toolkit\\\\;C:\\\\ProgramData\\\\Anaconda2\\\\envs\\\\Library\\\\mingw-w64\\\\bin;C:\\\\Program Files (x86)\\\\Microsoft Visual Studio 14.0\\\\VC\\\\bin\\\\amd64;C:\\\\Users\\\\Stefanos\\\\AppData\\\\Local\\\\Microsoft\\\\WindowsApps;C:\\\\Users\\\\Stefanos\\\\AppData\\\\Local\\\\GitHubDesktop\\\\bin;C:\\\\Users\\\\Stefanos\\\\AppData\\\\Local\\\\Microsoft\\\\WindowsApps;C:\\\\cygwin64\\\\bin;C:\\\\Downloads;C:\\\\Program Files (x86)\\\\GRASS GIS 7.5.svn;?C:\\\\ProgramData;?C:\\\\OSGeo4W64\\\\apps\\\\grass\\\\grass-7.5.svn;C:\\\\ProgramData\\\\Microsoft\\\\Windows\\\\Start Menu\\\\Programs\\\\OSGeo4W\\\\;C:\\\\OSGeo4W64\\\\apps\\\\grass\\\\grass-7.5.svn\\\\bin;C:\\\\OSGeo4W64\\\\bin;C:\\\\OSM_Streetblocks_extraction-master\\\\osm2pgsql-bin;C:\\\\Program Files\\\\PostgreSQL\\\\9.6\\\\bin;C:\\\\Program Files\\\\snap\\\\bin;C:\\\\Users\\\\Stefanos\\\\Documents\\\\sen2cor;C:\\\\OSGeo4W64\\\\lib;C:\\\\OSGeo4W64\\\\bin;;C:\\\\Program Files\\\\GRASS GIS 7.4.0\\\\bin;C:\\\\Program Files\\\\GRASS GIS 7.4.0\\\\scripts;C:\\\\Program Files\\\\GRASS GIS 7.4.0\\\\extrabin;C:\\\\Users\\\\Stefanos\\\\AppData\\\\Roaming\\\\GRASS7\\\\addons\\\\bin;C:\\\\Program Files\\\\GRASS GIS 7.4.0\\\\lib')\n",
      "('SYSTEMROOT', 'C:\\\\WINDOWS')\n",
      "('CLICOLOR', '1')\n",
      "('PROGRAMFILES(X86)', 'C:\\\\Program Files (x86)')\n",
      "('GISBASE', 'C:\\\\Program Files\\\\GRASS GIS 7.4.0')\n",
      "('DRIVERDATA', 'C:\\\\Windows\\\\System32\\\\Drivers\\\\DriverData')\n",
      "('TERM', 'xterm-color')\n",
      "('SEN2THREE_BIN', 'C:\\\\ProgramData\\\\Anaconda2\\\\Lib\\\\site-packages\\\\sen2three-1.1.0-py2.7.egg\\\\sen2three')\n",
      "('R_ENVIRON', 'C:\\\\Program Files\\\\R\\\\R-3.3.3\\\\etcd')\n",
      "('R_DOC_DIR', 'C:\\\\Program Files\\\\R\\\\R-3.3.3\\\\doc')\n",
      "('TEMP', 'C:\\\\Users\\\\Stefanos\\\\AppData\\\\Local\\\\Temp')\n",
      "('COMMONPROGRAMFILES(X86)', 'C:\\\\Program Files (x86)\\\\Common Files')\n",
      "('R_LIBS', 'C:\\\\Program Files\\\\R\\\\R-3.3.3\\\\library')\n",
      "('CONDA_PREFIX', 'C:\\\\ProgramData\\\\Anaconda2')\n",
      "('AGSDESKTOPJAVA', 'C:\\\\Program Files (x86)\\\\ArcGIS\\\\Desktop10.3\\\\')\n",
      "('ALLUSERSPROFILE', 'C:\\\\ProgramData')\n",
      "('USERPROFILE', 'C:\\\\Users\\\\Stefanos')\n",
      "('SEN2COR_BIN', 'C:\\\\ProgramData\\\\Anaconda2\\\\Lib\\\\site-packages\\\\sen2cor-2.4.0-py2.7.egg\\\\sen2cor')\n",
      "('LOCALAPPDATA', 'C:\\\\Users\\\\Stefanos\\\\AppData\\\\Local')\n",
      "('FPS_BROWSER_USER_PROFILE_STRING', 'Default')\n",
      "('HOMEPATH', '\\\\Users\\\\Stefanos')\n",
      "('USERDOMAIN_ROAMINGPROFILE', 'DESKTOP-NGHFAMI')\n",
      "('JPY_INTERRUPT_EVENT', '2200')\n",
      "('PROGRAMW6432', 'C:\\\\Program Files')\n",
      "('USERNAME', 'Stefanos')\n",
      "('R_LIBS_USER', 'C:\\\\R_LIBS_USER\\\\win-library\\\\3.3')\n",
      "('LOGONSERVER', '\\\\\\\\DESKTOP-NGHFAMI')\n",
      "('MPLBACKEND', 'module://ipykernel.pylab.backend_inline')\n",
      "('COMSPEC', 'C:\\\\WINDOWS\\\\system32\\\\cmd.exe')\n",
      "('JPY_PARENT_PID', '2196')\n",
      "('PROGRAMDATA', 'C:\\\\ProgramData')\n",
      "('PYTHONPATH', 'C:\\\\Program Files\\\\GRASS GIS 7.4.0\\\\etc\\\\python')\n",
      "('ONEDRIVE', 'C:\\\\Users\\\\Stefanos\\\\OneDrive')\n",
      "('GRASS_PYTHON', 'python.exe')\n",
      "('COMMONPROGRAMFILES', 'C:\\\\Program Files\\\\Common Files')\n",
      "('PUBLIC', 'C:\\\\Users\\\\Public')\n",
      "('FPS_BROWSER_APP_PROFILE_STRING', 'Internet Explorer')\n",
      "('GISRC', 'C:\\\\Users\\\\Stefanos\\\\AppData\\\\Roaming\\\\GRASS7\\\\rc')\n",
      "('GIT_PAGER', 'cat')\n",
      "('SESSIONNAME', 'Console')\n",
      "('PATHEXT', '.COM;.EXE;.BAT;.CMD;.VBS;.VBE;.JS;.JSE;.WSF;.WSH;.MSC;.bat')\n",
      "('GEODA_OGR_DRIVER_PATH', 'C:\\\\Program Files\\\\GeoDa Software')\n",
      "('INCLUDE', 'C:\\\\Program Files (x86)\\\\Windows Kits\\\\10\\\\Include\\\\10.0.10150.0\\\\um;C:\\\\Program Files (x86)\\\\Windows Kits\\\\10\\\\Include\\\\10.0.10150.0\\\\ucrt;')\n",
      "('GDAL_DATA', 'C:\\\\Program Files\\\\GRASS GIS 7.4.0\\\\share\\\\gdal')\n",
      "('WINDIR', 'C:\\\\WINDOWS')\n",
      "('GIS_LOCK', '$$')\n",
      "('APPDATA', 'C:\\\\Users\\\\Stefanos\\\\AppData\\\\Roaming')\n",
      "('HOMEDRIVE', 'C:')\n",
      "('PAGER', 'cat')\n",
      "('SYSTEMDRIVE', 'C:')\n",
      "('PROCESSOR_IDENTIFIER', 'Intel64 Family 6 Model 45 Stepping 7, GenuineIntel')\n",
      "('R_HOME', 'C:\\\\Program Files\\\\R\\\\R-3.3.3')\n",
      "('NUMBER_OF_PROCESSORS', '32')\n",
      "('GRASS_ADDON_BASE', 'C:\\\\Users\\\\Stefanos\\\\AppData\\\\Roaming\\\\GRASS7\\\\addons')\n",
      "('MKL_THREADING_LAYER', 'GNU')\n",
      "('POSTGIS_ENABLE_OUTDB_RASTERS', '1')\n",
      "('PYTHONLIB', 'C:\\\\Python27')\n",
      "('COMMONPROGRAMW6432', 'C:\\\\Program Files\\\\Common Files')\n",
      "('OS', 'Windows_NT')\n",
      "('SEN2COR_HOME', 'C:\\\\Users\\\\Stefanos\\\\documents\\\\sen2cor')\n",
      "('IPY_INTERRUPT_EVENT', '2200')\n",
      "('PROCESSOR_LEVEL', '6')\n"
     ]
    }
   ],
   "source": [
    "# Display the current defined environment variables\n",
    "for key in os.environ.keys():\n",
    "    print (key,os.environ[key])"
   ]
  },
  {
   "cell_type": "code",
   "execution_count": 38,
   "metadata": {
    "collapsed": true
   },
   "outputs": [],
   "source": [
    "## Define a empty dictionnary for saving user inputs\n",
    "user={}"
   ]
  },
  {
   "cell_type": "code",
   "execution_count": 39,
   "metadata": {
    "collapsed": true
   },
   "outputs": [],
   "source": [
    "## Enter the path to GRASSDATA folder\n",
    "user[\"gisdb\"] = \"C:\\\\Users\\\\Stefanos\\\\Dropbox\\\\LCZ_Africa\\\\GRASS\"\n",
    "\n",
    "## Enter the name of the location (existing or for a new one)\n",
    "user[\"location\"] = \"City1_LCZ\"\n",
    "\n",
    "## Enter the EPSG code for this location \n",
    "user[\"locationepsg\"] = \"32632\"\n"
   ]
  },
  {
   "cell_type": "code",
   "execution_count": 40,
   "metadata": {
    "collapsed": true
   },
   "outputs": [],
   "source": [
    "## Import libraries needed to launch GRASS GIS in the jupyter notebook\n",
    "import grass.script.setup as gsetup\n",
    "\n",
    "## Import libraries needed to call GRASS using Python\n",
    "import grass.script as gscript"
   ]
  },
  {
   "cell_type": "code",
   "execution_count": 41,
   "metadata": {
    "collapsed": false
   },
   "outputs": [
    {
     "name": "stdout",
     "output_type": "stream",
     "text": [
      "GRASSDATA folder already exist\n"
     ]
    }
   ],
   "source": [
    "if os.path.exists(user[\"gisdb\"]):\n",
    "    print \"GRASSDATA folder already exist\" \n",
    "else: \n",
    "    os.makedirs(user[\"gisdb\"]) \n",
    "    print \"GRASSDATA folder created in \"+user[\"gisdb\"]"
   ]
  },
  {
   "cell_type": "code",
   "execution_count": 42,
   "metadata": {
    "collapsed": false
   },
   "outputs": [
    {
     "name": "stdout",
     "output_type": "stream",
     "text": [
      "Location City1_LCZ already exist\n"
     ]
    }
   ],
   "source": [
    "# Automatic creation of GRASS location is doesn't exist\n",
    "if os.path.exists(user[\"gisdb\"]+'\\\\'+user[\"location\"]):\n",
    "    print \"Location \"+user[\"location\"]+\" already exist\" \n",
    "else : \n",
    "    gscript.core.create_location(user[\"gisdb\"], user[\"location\"], epsg=user[\"locationepsg\"], overwrite=False)\n",
    "    print \"Location \"+user[\"gisdb\"]+\" created\""
   ]
  },
  {
   "cell_type": "code",
   "execution_count": 43,
   "metadata": {
    "collapsed": true
   },
   "outputs": [],
   "source": [
    "## Function which concatenate individual .csv files stored in a folder. \n",
    "# 'indir' parameter wait for a string with the path to the repertory to look for individual .csv files\n",
    "# 'pattern' parameter wait for a string with the pattern of filename to look for (example: \"TMP_*.csv\")\n",
    "# 'sep' parameter wait for a string with the delimiter of the .csv file\n",
    "# 'replacedict' parameter wait for a dictionary containing the unwanted values as keys and the replace string as corresponding value\n",
    "# 'outputfilename' parameter wait for the name of the outputfile (including extansion but without the complete path)\n",
    "\n",
    "import os\n",
    "import glob\n",
    "import csv\n",
    "\n",
    "def concat_findreplace(indir,pattern,sep,replacedict,outputfilename):\n",
    "    # Initialise some variables\n",
    "    messagetoprint=None\n",
    "    returnmessage=None\n",
    "    countdict={}\n",
    "    for k in replacedict:\n",
    "        countdict[k]=0\n",
    "    # Change the working directory\n",
    "    os.chdir(indir) \n",
    "    # Get a list with file in the current directory corresponding to a specific pattern\n",
    "    fileList=None\n",
    "    fileList=glob.glob(pattern)\n",
    "    # Print\n",
    "    messagetoprint=\"Going to concatenate \"+str(len(fileList))+\" .csv files together and replace unwanted values.\"\n",
    "    #print (messagetoprint)\n",
    "    returnmessage=messagetoprint\n",
    "    # Create a new file \n",
    "    outfile=os.path.join(indir, outputfilename)\n",
    "    writercsvSubset = open(outfile, 'wb')\n",
    "    writercsv=csv.writer(writercsvSubset,delimiter=sep)\n",
    "    # Concatenate individuals files and replace unwanted values\n",
    "    for indivfile in fileList:\n",
    "        with open(indivfile) as readercsvSubset:\n",
    "            readercsv=csv.reader(readercsvSubset, delimiter=sep)\n",
    "            if indivfile!=fileList[0]:\n",
    "                readercsv.next()\n",
    "            count=0\n",
    "            for row in readercsv:\n",
    "                newline=[]\n",
    "                for i, x in enumerate(row):\n",
    "                    if x in replacedict:\n",
    "                        newline.append(replacedict[x])\n",
    "                        countdict[x]+=1\n",
    "                    else:\n",
    "                        newline.append(row[i])\n",
    "                writercsv.writerow(newline)\n",
    "        # Close the current input file\n",
    "        readercsvSubset.close()\n",
    "    # Close the outputfile\n",
    "    writercsvSubset.close()\n",
    "    # Count number of changes\n",
    "    countchange=0\n",
    "    for k in countdict:\n",
    "        countchange+=countdict[k]\n",
    "    # Print\n",
    "    if countchange>0:\n",
    "        messagetoprint=\"\\n\"\n",
    "        returnmessage+=messagetoprint\n",
    "        messagetoprint=\"Values have been changed:\"+\"\\n\"\n",
    "        #print (messagetoprint)\n",
    "        returnmessage+=messagetoprint\n",
    "        for k in replacedict:\n",
    "            if countdict[k]>0:\n",
    "                messagetoprint=str(countdict[k])+\" '\"+k+\"' value(s) replaced by '\"+replacedict[k]+\"'\\n\"\n",
    "                #print (messagetoprint)\n",
    "                returnmessage+=messagetoprint\n",
    "    else:\n",
    "        messagetoprint=\"Nothing changed. No unwanted values found !\"\n",
    "        #print (messagetoprint)\n",
    "        returnmessage+=messagetoprint\n",
    "    # Return\n",
    "    return returnmessage[:-1]"
   ]
  },
  {
   "cell_type": "code",
   "execution_count": 44,
   "metadata": {
    "collapsed": true
   },
   "outputs": [],
   "source": [
    "## Import library for managing time in python\n",
    "import time  \n",
    "\n",
    "## Function \"print_processing_time()\" compute processing time and printing it.\n",
    "# The argument \"begintime\" wait for a variable containing the begintime (result of time.time()) of the process for which to compute processing time.\n",
    "# The argument \"printmessage\" wait for a string format with information about the process. \n",
    "def print_processing_time(begintime, printmessage):    \n",
    "    endtime=time.time()           \n",
    "    processtime=endtime-begintime\n",
    "    remainingtime=processtime\n",
    "\n",
    "    days=int((remainingtime)/86400)\n",
    "    remainingtime-=(days*86400)\n",
    "    hours=int((remainingtime)/3600)\n",
    "    remainingtime-=(hours*3600)\n",
    "    minutes=int((remainingtime)/60)\n",
    "    remainingtime-=(minutes*60)\n",
    "    seconds=round((remainingtime)%60,1)\n",
    "\n",
    "    if processtime<60:\n",
    "        finalprintmessage=str(printmessage)+str(seconds)+\" seconds\"\n",
    "    elif processtime<3600:\n",
    "        finalprintmessage=str(printmessage)+str(minutes)+\" minutes and \"+str(seconds)+\" seconds\"\n",
    "    elif processtime<86400:\n",
    "        finalprintmessage=str(printmessage)+str(hours)+\" hours and \"+str(minutes)+\" minutes and \"+str(seconds)+\" seconds\"\n",
    "    elif processtime>=86400:\n",
    "        finalprintmessage=str(printmessage)+str(days)+\" days, \"+str(hours)+\" hours and \"+str(minutes)+\" minutes and \"+str(seconds)+\" seconds\"\n",
    "    \n",
    "    return finalprintmessage"
   ]
  },
  {
   "cell_type": "code",
   "execution_count": 45,
   "metadata": {
    "collapsed": true
   },
   "outputs": [],
   "source": [
    "def cleanup():\n",
    "    gscript.run_command('g.remove', type='raster', name=','.join(TMP_MAPS), flags='f')\t"
   ]
  },
  {
   "cell_type": "code",
   "execution_count": 46,
   "metadata": {
    "collapsed": true
   },
   "outputs": [],
   "source": [
    "## Import Random Forest library\n",
    "try:\n",
    "    from sklearn.ensemble import RandomForestRegressor\n",
    "except:\n",
    "    gscript.fatal(\"Scikit learn 0.18 or newer is not installed\")\n",
    "\n",
    "\n",
    "def cleanup():\n",
    "    gscript.run_command('g.remove', type='raster', name=','.join(TMP_MAPS), flags='f')\t\n",
    "\n",
    "\n",
    "\n",
    "def Data_prep(Land_cover):\n",
    "    '''\n",
    "    Function that extracts informations from the Land Cover : resolution and classes\n",
    "    '''\n",
    "\n",
    "    info = gscript.raster_info(Land_cover)\n",
    "    nsres=info.nsres\n",
    "    ewres=info.ewres\n",
    "    L = []\n",
    "    L=[cl for cl in gscript.parse_command('r.category',map= Land_cover)]\n",
    "    return nsres, ewres, L"
   ]
  },
  {
   "cell_type": "code",
   "execution_count": 47,
   "metadata": {
    "collapsed": true
   },
   "outputs": [],
   "source": [
    "def create_binary_raster(categorical_raster,prefix=\"binary\",setnull=False,returnlist=False,category_list=None):\n",
    "    returnlist=[] #Declare empty list for return\n",
    "    #gscript.run_command('g.region', raster=categorical_raster, quiet=True) #Set the region\n",
    "    null='null()' if setnull else '0' #Set the value for r.mapcalc\n",
    "    minclass=1 if setnull else 2 #Set the value to check if the binary raster is empty\n",
    "    if category_list == None: #If no category_list provided\n",
    "        category_list=[cl for cl in gscript.parse_command('r.category',map=categorical_raster,quiet=True)]\n",
    "    for i,x in enumerate(category_list):  #Make sure the format is UTF8 and not Unicode\n",
    "        category_list[i]=x.encode('UTF8')\n",
    "    category_list.sort(key=float) #Sort the raster categories in ascending.\n",
    "    #Create a binary raster for the current class\n",
    "    for cl in category_list:\n",
    "        binary_class=prefix+\"_\"+cl\n",
    "        gscript.run_command('r.mapcalc', expression=binary_class+'=if('+categorical_raster+'=='+str(cl)+',1,'+null+')',overwrite=True, quiet=True)\n",
    "        if len(gscript.parse_command('r.category',map=binary_class,quiet=True))>=minclass:  #Check if created binary is not empty\n",
    "            returnlist.append(binary_class)\n",
    "        else:\n",
    "            grass.run_command('g.remove', quiet=True, flags=\"f\", type='raster', name=binary_class)\n",
    "    if returnlist:\n",
    "        return returnlist\n"
   ]
  },
  {
   "cell_type": "code",
   "execution_count": 48,
   "metadata": {
    "collapsed": true
   },
   "outputs": [],
   "source": [
    "def admin_boundaries(vector, id):\n",
    "#Function convecting the vecotor to raster then raster to vector: boundaries will have a staircase appearence \n",
    "#so that each tile of the gridded vector will be contained in only one administrative unit#\n",
    "    \n",
    "    gscript.run_command('g.region', raster=Land_cover, res=tile_size)\n",
    "    gscript.run_command('v.to.rast', input= vector, type='area', output=vector+'_rast', use='cat', overwrite=True)\n",
    "    gscript.run_command('r.to.vect', input=vector+'_rast', output= vector+'_rastTovect', type='area', column=id, flags='v',overwrite=True)\n",
    "    gscript.run_command('v.db.join', map=vector+'_rastTovect', column='cat',other_table=vector, other_column='cat')\n"
   ]
  },
  {
   "cell_type": "code",
   "execution_count": 49,
   "metadata": {
    "collapsed": true
   },
   "outputs": [],
   "source": [
    "def proportion_class_admin_landuse(vector,liste , opt=\"\"):\n",
    "#Function calculating classes' proportions within each administrative unit#\n",
    "    for cl in liste:\n",
    "\n",
    "        gscript.run_command('v.rast.stats', map=vector,raster='LCZ_cl_'+str(cl)+opt, column_prefix='LCZ'+str(cl)+opt, method='average', flags='c')\n"
   ]
  },
  {
   "cell_type": "code",
   "execution_count": 50,
   "metadata": {
    "collapsed": true
   },
   "outputs": [],
   "source": [
    "def proportion_class_admin(vector,liste , opt=\"\"):\n",
    "#Function calculating classes' proportions within each administrative unit#\n",
    "    for cl in liste:\n",
    "\n",
    "        gscript.run_command('v.rast.stats', map=vector,raster='lc_cl_'+str(cl)+opt, column_prefix='LC_'+str(cl)+opt, method='average', flags='c')\n"
   ]
  },
  {
   "cell_type": "code",
   "execution_count": 51,
   "metadata": {
    "collapsed": true
   },
   "outputs": [],
   "source": [
    "def proportion_class_admin_DIST(vector,liste , opt=\"\"):\n",
    "#Function calculating classes' proportions within each administrative unit#\n",
    "    for cl in liste:\n",
    "\n",
    "        gscript.run_command('v.rast.stats', map=vector,raster='Dist_lcz_'+str(cl)+opt, column_prefix='Dist_'+str(cl)+opt, method='average', flags='c')\n"
   ]
  },
  {
   "cell_type": "code",
   "execution_count": 52,
   "metadata": {
    "collapsed": false
   },
   "outputs": [
    {
     "name": "stdout",
     "output_type": "stream",
     "text": [
      "You are now working in mapset 'PERMANENT'\n"
     ]
    }
   ],
   "source": [
    "## Save the name of the mapset in which to import the data\n",
    "mapsetname='PERMANENT'\n",
    "\n",
    "## Launch GRASS GIS working session in the mapset\n",
    "if os.path.exists(user[\"gisdb\"]+'\\\\'+user[\"location\"]+'\\\\'+mapsetname):\n",
    "    gsetup.init(os.environ['GISBASE'], user[\"gisdb\"], user[\"location\"], mapsetname)\n",
    "    print \"You are now working in mapset '\"+mapsetname+\"'\" \n",
    "else: \n",
    "    print \"'\"+mapsetname+\"' mapset doesn't exists in \"+user[\"gisdb\"]"
   ]
  },
  {
   "cell_type": "code",
   "execution_count": 23,
   "metadata": {
    "collapsed": false
   },
   "outputs": [
    {
     "data": {
      "text/plain": [
       "0"
      ]
     },
     "execution_count": 23,
     "metadata": {},
     "output_type": "execute_result"
    }
   ],
   "source": [
    "###Import Raster LCZ map\n",
    "gscript.run_command('r.import',overwrite=True, input=\"C:\\Users\\Stefanos\\Dropbox\\LCZ_Africa\\Final_LCZ_maps\\City1_LCZ.tif\",output=\"City1_LCZ_M\")"
   ]
  },
  {
   "cell_type": "code",
   "execution_count": 24,
   "metadata": {
    "collapsed": false
   },
   "outputs": [
    {
     "data": {
      "text/plain": [
       "0"
      ]
     },
     "execution_count": 24,
     "metadata": {},
     "output_type": "execute_result"
    }
   ],
   "source": [
    "###Import Malaria data - P2 Spatially Accurate\n",
    "gscript.run_command('v.import',overwrite=True, input=\"C:\\Users\\Stefanos\\Dropbox\\LCZ_Africa\\Malaria_datasets\\P2_spatially_accurate\\City1.shp\",output=\"City1_PFPR\")\n"
   ]
  },
  {
   "cell_type": "markdown",
   "metadata": {},
   "source": [
    "# CREATE BINARY LCZ CLASS MAPS AND EXTRACT PROPORTIONS ON MALARIA SURVEY POINTS"
   ]
  },
  {
   "cell_type": "code",
   "execution_count": 24,
   "metadata": {
    "collapsed": false
   },
   "outputs": [],
   "source": [
    "###Create binary maps of LCZ\n",
    "Data = Data_prep(\"City1_LCZ_M\")\n",
    "nsres = Data[0] ## north-south resolution\n",
    "ewres = Data[1] ## east-west resolution\n",
    "lc_classes_list = Data[2]\n"
   ]
  },
  {
   "cell_type": "code",
   "execution_count": 25,
   "metadata": {
    "collapsed": false
   },
   "outputs": [
    {
     "name": "stdout",
     "output_type": "stream",
     "text": [
      "[u'11', u'10', u'13', u'12', u'15', u'14', u'17', u'16', u'18', u'1', u'3', u'2', u'5', u'7', u'6', u'9', u'8']\n"
     ]
    }
   ],
   "source": [
    "print(lc_classes_list)\n",
    "TMP_MAPS = []\n",
    "gscript.run_command('g.region', region='extent', nsres=nsres, ewres=ewres, overwrite=True)\n",
    "for cl in lc_classes_list:\n",
    "    gscript.run_command('g.region', region='extent', nsres=nsres, ewres=ewres)\n",
    "    building = 'lcz_cl_'+str(cl)\n",
    "    TMP_MAPS.append(building)\n",
    "    gscript.run_command('r.mapcalc', expression=building+'=if('+'City1_LCZ_M'+'=='+str(cl)+',1,0)',overwrite=True)"
   ]
  },
  {
   "cell_type": "code",
   "execution_count": 77,
   "metadata": {
    "collapsed": false
   },
   "outputs": [],
   "source": [
    "###Extract Proportion of LCZ classes around buffer\n",
    "cat=list(gscript.parse_command('v.db.select', map='City1_PFPR', columns='cat', flags='c'))[:]\n",
    "TMP_MAPS = []\n",
    "TMP_buff = []\n",
    "for point in cat:\n",
    "    gscript.run_command('g.region', region='extent', nsres=nsres, ewres=ewres)\n",
    "    condition=\"cat=\"+point\n",
    "    outputname=\"point_out\"+point\n",
    "    regionname=\"region_\"+point\n",
    "    outputname2=\"buffer_\"+point\n",
    "    gscript.run_command('v.extract', overwrite=True, quiet=True, input=\"City1_PFPR\", type=\"point\", where=condition, output= outputname)\n",
    "    gscript.run_command(\"v.buffer\", overwrite=True, input= outputname, type=\"point\", distance=250,output=outputname2,where=condition,flags=\"st\")\n",
    "    TMP_buff.append(outputname)\n",
    "    gscript.run_command('g.region',overwrite=True, vector=outputname2, flags=\"u\",save=regionname,nsres=nsres, ewres=ewres)\n",
    "    gscript.run_command('g.region',region=regionname,nsres=nsres, ewres=ewres)\n",
    "    proportion_class_admin_landuse(outputname2,lc_classes_list , opt=\"\")"
   ]
  },
  {
   "cell_type": "markdown",
   "metadata": {
    "collapsed": true
   },
   "source": [
    "# CREATE DISTANCE RASTERS AND EXTRACT AVERAGE DISTANCE IN BUFFER"
   ]
  },
  {
   "cell_type": "code",
   "execution_count": 78,
   "metadata": {
    "collapsed": false
   },
   "outputs": [
    {
     "data": {
      "text/plain": [
       "0"
      ]
     },
     "execution_count": 78,
     "metadata": {},
     "output_type": "execute_result"
    }
   ],
   "source": [
    "gscript.run_command('g.region', region='extent', nsres=nsres, ewres=ewres, overwrite=True)"
   ]
  },
  {
   "cell_type": "code",
   "execution_count": 79,
   "metadata": {
    "collapsed": true
   },
   "outputs": [],
   "source": [
    "#CREATE DISTANCE RASTERS\n",
    "for cl in lc_classes_list:\n",
    "    #gscript.run_command('g.region', region='extent',nsres=5, ewres=5)    \n",
    "    somme2 = 'lcz_cl_'+str(cl)\n",
    "    output = 'Dist_lcz_'+str(cl)\n",
    "    #gscript.run_command('r.null', map=somme2, null=0)\n",
    "    gscript.run_command('r.null', map=somme2, setnull=0)\n",
    "    gscript.run_command('r.grow.distance', input=somme2, distance=output, overwrite=True)"
   ]
  },
  {
   "cell_type": "code",
   "execution_count": 80,
   "metadata": {
    "collapsed": true
   },
   "outputs": [],
   "source": [
    "#CREATE DISTANCE RASTERS\n",
    "for cl in lc_classes_list:\n",
    "    #gscript.run_command('g.region', region='extent',nsres=5, ewres=5)    \n",
    "    somme2 = 'lcz_cl_'+str(cl)\n",
    "    output = 'Dist_lcz_'+str(cl)\n",
    "    gscript.run_command('r.null', map=somme2, null=0)\n",
    "    #gscript.run_command('r.null', map=somme2, setnull=0)\n",
    "    #gscript.run_command('r.grow.distance', input=somme2, distance=output, overwrite=True)"
   ]
  },
  {
   "cell_type": "code",
   "execution_count": 81,
   "metadata": {
    "collapsed": false
   },
   "outputs": [
    {
     "name": "stdout",
     "output_type": "stream",
     "text": [
      "[u'11', u'10', u'13', u'12', u'15', u'14', u'17', u'16', u'18', u'1', u'3', u'2', u'5', u'7', u'6', u'9', u'8']\n"
     ]
    }
   ],
   "source": [
    "##xtract distances\n",
    "print(lc_classes_list)\n",
    "#TMP_MAPS = []\n",
    "#TMP_buff = []\n",
    "for point in cat:\n",
    "    gscript.run_command('g.region', region='extent', nsres=nsres, ewres=ewres)\n",
    "    condition=\"cat=\"+point\n",
    "    #outputname=\"point_out\"+point\n",
    "    regionname=\"region_\"+point\n",
    "    outputname2=\"buffer_\"+point\n",
    "    #gscript.run_command('v.extract', overwrite=True, quiet=True, input=\"Kampala\", type=\"point\", where=condition, output= outputname)\n",
    "    #gscript.run_command(\"v.buffer\", overwrite=True, input= outputname, type=\"point\", distance=1000,output=outputname2,where=condition,flags=\"t\")\n",
    "    #TMP_buff.append(outputname)\n",
    "    gscript.run_command('g.region',overwrite=True, region=regionname,nsres=nsres, ewres=ewres)\n",
    "    proportion_class_admin_DIST(outputname2,lc_classes_list , opt=\"\")\n",
    "    "
   ]
  },
  {
   "cell_type": "markdown",
   "metadata": {},
   "source": [
    "# IMPORT AND EXTRACT NDWI"
   ]
  },
  {
   "cell_type": "code",
   "execution_count": 50,
   "metadata": {
    "collapsed": false
   },
   "outputs": [
    {
     "data": {
      "text/plain": [
       "0"
      ]
     },
     "execution_count": 50,
     "metadata": {},
     "output_type": "execute_result"
    }
   ],
   "source": [
    "###Import Raster LCZ map\n",
    "gscript.run_command('r.import',overwrite=True, input=\"C:\\Users\\Stefanos\\Dropbox\\LCZ_Africa\\SRTM_NDVI_NDWI\\Landsat_AVG_NDWI_100_City1.tif\",output=\"City1_NDWI\")"
   ]
  },
  {
   "cell_type": "code",
   "execution_count": 51,
   "metadata": {
    "collapsed": false
   },
   "outputs": [
    {
     "data": {
      "text/plain": [
       "0"
      ]
     },
     "execution_count": 51,
     "metadata": {},
     "output_type": "execute_result"
    }
   ],
   "source": [
    "gscript.run_command('r.import',overwrite=True, input=\"C:\\Users\\Stefanos\\Dropbox\\LCZ_Africa\\SRTM_NDVI_NDWI\\Landsat_STD_NDWI_100_City1.tif\",output=\"City1_NDWI_STD\")"
   ]
  },
  {
   "cell_type": "code",
   "execution_count": 52,
   "metadata": {
    "collapsed": false
   },
   "outputs": [
    {
     "data": {
      "text/plain": [
       "0"
      ]
     },
     "execution_count": 52,
     "metadata": {},
     "output_type": "execute_result"
    }
   ],
   "source": [
    "gscript.run_command('r.import',overwrite=True, input=\"C:\\Users\\Stefanos\\Dropbox\\LCZ_Africa\\SRTM_NDVI_NDWI\\Landsat_AVG_NDVI_100_City1.tif\",output=\"City1_NDVI\")"
   ]
  },
  {
   "cell_type": "code",
   "execution_count": 53,
   "metadata": {
    "collapsed": false
   },
   "outputs": [
    {
     "data": {
      "text/plain": [
       "0"
      ]
     },
     "execution_count": 53,
     "metadata": {},
     "output_type": "execute_result"
    }
   ],
   "source": [
    "gscript.run_command('r.import',overwrite=True, input=\"C:\\Users\\Stefanos\\Dropbox\\LCZ_Africa\\SRTM_NDVI_NDWI\\Landsat_STD_NDVI_100_City1.tif\",output=\"City1_NDVI_STD\")"
   ]
  },
  {
   "cell_type": "code",
   "execution_count": 55,
   "metadata": {
    "collapsed": false
   },
   "outputs": [
    {
     "data": {
      "text/plain": [
       "0"
      ]
     },
     "execution_count": 55,
     "metadata": {},
     "output_type": "execute_result"
    }
   ],
   "source": [
    "gscript.run_command('r.import',overwrite=True, input=\"C:\\Users\\Stefanos\\Dropbox\\LCZ_Africa\\SRTM_NDVI_NDWI\\SRTM_30_City1.tif\",output=\"City1_SRTM\")"
   ]
  },
  {
   "cell_type": "code",
   "execution_count": 82,
   "metadata": {
    "collapsed": false
   },
   "outputs": [
    {
     "name": "stdout",
     "output_type": "stream",
     "text": [
      "[u'11', u'10', u'13', u'12', u'15', u'14', u'17', u'16', u'18', u'1', u'3', u'2', u'5', u'7', u'6', u'9', u'8']\n"
     ]
    }
   ],
   "source": [
    "\n",
    "cat=list(gscript.parse_command('v.db.select', map='City1_PFPR', columns='cat', flags='c'))[:]\n",
    "##xtract ndwi\n",
    "print(lc_classes_list)\n",
    "#TMP_MAPS = []\n",
    "#TMP_buff = []\n",
    "for point in cat:\n",
    "    gscript.run_command('g.region', region='extent', nsres=nsres, ewres=ewres)\n",
    "    condition=\"cat=\"+point\n",
    "    #outputname=\"point_out\"+point\n",
    "    regionname=\"region_\"+point\n",
    "    outputname2=\"buffer_\"+point\n",
    "    #gscript.run_command('v.extract', overwrite=True, quiet=True, input=\"Kampala\", type=\"point\", where=condition, output= outputname)\n",
    "    #gscript.run_command(\"v.buffer\", overwrite=True, input= outputname, type=\"point\", distance=1000,output=outputname2,where=condition,flags=\"t\")\n",
    "    #TMP_buff.append(outputname)\n",
    "    gscript.run_command('g.region',overwrite=True, region=regionname,nsres=nsres, ewres=ewres)\n",
    "    gscript.run_command('v.rast.stats', map=outputname2,raster=\"City1_NDWI\", column_prefix=\"NDWI\", method='average', flags='c')\n",
    "    gscript.run_command('v.rast.stats', map=outputname2,raster=\"City1_NDWI_STD\", column_prefix=\"NDWI_STD\", method='average', flags='c')\n",
    "    gscript.run_command('v.rast.stats', map=outputname2,raster=\"City1_NDVI\", column_prefix=\"NDVI\", method='average', flags='c')\n",
    "    gscript.run_command('v.rast.stats', map=outputname2,raster=\"City1_NDVI_STD\", column_prefix=\"NDVI_STD\", method='average', flags='c')\n",
    "    gscript.run_command('v.rast.stats', map=outputname2,raster=\"City1_SRTM\", column_prefix=\"SRTM\", method='average', flags='c')\n"
   ]
  },
  {
   "cell_type": "code",
   "execution_count": 57,
   "metadata": {
    "collapsed": false
   },
   "outputs": [
    {
     "data": {
      "text/plain": [
       "0"
      ]
     },
     "execution_count": 57,
     "metadata": {},
     "output_type": "execute_result"
    }
   ],
   "source": [
    "gscript.run_command('r.import',overwrite=True, input=\"C:\\Users\\Stefanos\\Dropbox\\LCZ_Africa\\SRTM_NDVI_NDWI\\City1_MSWEP_monprecip_2005-201710_YAVGMEAN_LCZGrid.tif\",output=\"Precip_mean\")"
   ]
  },
  {
   "cell_type": "code",
   "execution_count": 59,
   "metadata": {
    "collapsed": false
   },
   "outputs": [
    {
     "data": {
      "text/plain": [
       "0"
      ]
     },
     "execution_count": 59,
     "metadata": {},
     "output_type": "execute_result"
    }
   ],
   "source": [
    "gscript.run_command('r.import',overwrite=True, input=\"C:\\Users\\Stefanos\\Dropbox\\LCZ_Africa\\SRTM_NDVI_NDWI\\City1_MSWEP_monprecip_2005-201710_YAVGMAX_LCZGrid.tif\",output=\"Precip_max\")"
   ]
  },
  {
   "cell_type": "code",
   "execution_count": 60,
   "metadata": {
    "collapsed": false
   },
   "outputs": [
    {
     "data": {
      "text/plain": [
       "0"
      ]
     },
     "execution_count": 60,
     "metadata": {},
     "output_type": "execute_result"
    }
   ],
   "source": [
    "gscript.run_command('r.import',overwrite=True, input=\"C:\\Users\\Stefanos\\Dropbox\\LCZ_Africa\\SRTM_NDVI_NDWI\\City1_MSWEP_monprecip_2005-201710_YAVGMIN_LCZGrid.tif\",output=\"Precip_min\")"
   ]
  },
  {
   "cell_type": "code",
   "execution_count": 83,
   "metadata": {
    "collapsed": true
   },
   "outputs": [],
   "source": [
    "for point in cat:\n",
    "    gscript.run_command('g.region', region='extent', nsres=nsres, ewres=ewres)\n",
    "    condition=\"cat=\"+point\n",
    "    #outputname=\"point_out\"+point\n",
    "    regionname=\"region_\"+point\n",
    "    outputname2=\"buffer_\"+point\n",
    "    #gscript.run_command('v.extract', overwrite=True, quiet=True, input=\"Kampala\", type=\"point\", where=condition, output= outputname)\n",
    "    #gscript.run_command(\"v.buffer\", overwrite=True, input= outputname, type=\"point\", distance=1000,output=outputname2,where=condition,flags=\"t\")\n",
    "    #TMP_buff.append(outputname)\n",
    "    gscript.run_command('g.region',overwrite=True, region=regionname,nsres=nsres, ewres=ewres)\n",
    "    gscript.run_command('v.rast.stats', map=outputname2,raster=\"Precip_max\", column_prefix=\"Precip_max\", method='average', flags='c')\n",
    "    gscript.run_command('v.rast.stats', map=outputname2,raster=\"Precip_min\", column_prefix=\"Precip_min\", method='average', flags='c')\n",
    "    gscript.run_command('v.rast.stats', map=outputname2,raster=\"Precip_mean\", column_prefix=\"Precip_mean\", method='average', flags='c')\n"
   ]
  },
  {
   "cell_type": "code",
   "execution_count": 84,
   "metadata": {
    "collapsed": true
   },
   "outputs": [],
   "source": [
    "##PATCH EVERYTHING\n",
    "TMP_buff = []\n",
    "for point in cat:\n",
    "    outputname2=\"buffer_\"+point\n",
    "\n",
    "    TMP_buff.append(outputname2)"
   ]
  },
  {
   "cell_type": "code",
   "execution_count": 85,
   "metadata": {
    "collapsed": false
   },
   "outputs": [
    {
     "data": {
      "text/plain": [
       "u'buffer_24,buffer_25,buffer_26,buffer_27,buffer_20,buffer_21,buffer_22,buffer_23,buffer_28,buffer_29,buffer_1,buffer_3,buffer_2,buffer_5,buffer_4,buffer_7,buffer_6,buffer_9,buffer_8,buffer_38,buffer_11,buffer_10,buffer_13,buffer_12,buffer_15,buffer_14,buffer_17,buffer_16,buffer_19,buffer_18,buffer_31,buffer_30,buffer_37,buffer_36,buffer_35,buffer_34,buffer_33,buffer_32'"
      ]
     },
     "execution_count": 85,
     "metadata": {},
     "output_type": "execute_result"
    }
   ],
   "source": [
    "','.join(TMP_buff)"
   ]
  },
  {
   "cell_type": "code",
   "execution_count": 86,
   "metadata": {
    "collapsed": false
   },
   "outputs": [
    {
     "data": {
      "text/plain": [
       "0"
      ]
     },
     "execution_count": 86,
     "metadata": {},
     "output_type": "execute_result"
    }
   ],
   "source": [
    "gscript.run_command('v.patch',overwrite=True, input=TMP_buff[:],output=\"City1_results_250m_v5\", flags=\"e\")"
   ]
  },
  {
   "cell_type": "code",
   "execution_count": 87,
   "metadata": {
    "collapsed": false
   },
   "outputs": [
    {
     "data": {
      "text/plain": [
       "0"
      ]
     },
     "execution_count": 87,
     "metadata": {},
     "output_type": "execute_result"
    }
   ],
   "source": [
    "gscript.run_command(\"v.db.select\",overwrite=True, map=\"City1_results_250m_v5\", file=\"C:\\Users\\Stefanos\\Desktop\\oscar_500m\\City1_250m_v5.csv\")"
   ]
  },
  {
   "cell_type": "code",
   "execution_count": null,
   "metadata": {
    "collapsed": true
   },
   "outputs": [],
   "source": []
  },
  {
   "cell_type": "code",
   "execution_count": 23,
   "metadata": {
    "collapsed": true
   },
   "outputs": [],
   "source": [
    "\n",
    "Data = Data_prep(\"City1_LCZ_M\")\n",
    "nsres = Data[0] ## north-south resolution\n",
    "ewres = Data[1] ## east-west resolution\n",
    "lc_classes_list = Data[2]\n"
   ]
  },
  {
   "cell_type": "code",
   "execution_count": 24,
   "metadata": {
    "collapsed": false
   },
   "outputs": [
    {
     "data": {
      "text/plain": [
       "0"
      ]
     },
     "execution_count": 24,
     "metadata": {},
     "output_type": "execute_result"
    }
   ],
   "source": [
    "gscript.run_command('g.region', region='extent', nsres=nsres, ewres=ewres)"
   ]
  },
  {
   "cell_type": "code",
   "execution_count": 25,
   "metadata": {
    "collapsed": true
   },
   "outputs": [],
   "source": [
    "for cl in lc_classes_list:\n",
    "    gscript.run_command('g.region', region='extent', nsres=nsres, ewres=ewres)\n",
    "    somme2 = 'Dist_lcz_'+str(cl)\n",
    "    output= '1km_mean_'+somme2\n",
    "    gscript.run_command(\"r.neighbors\", input=somme2,output=output,overwrite=True,size=\"19\")"
   ]
  },
  {
   "cell_type": "code",
   "execution_count": 26,
   "metadata": {
    "collapsed": true
   },
   "outputs": [],
   "source": [
    "for cl in lc_classes_list:\n",
    "    gscript.run_command('g.region', region='extent', nsres=nsres, ewres=ewres)\n",
    "    somme2 = 'lcz_cl_'+str(cl)\n",
    "    output= 'sum_'+somme2\n",
    "    output2=\"count_\"+somme2\n",
    "    output3=\"1km_\"+str(cl)\n",
    "    gscript.run_command(\"r.neighbors\", input=somme2,output=output,overwrite=True,method=\"sum\",size=\"19\")\n",
    "    gscript.run_command(\"r.neighbors\", input=somme2,output=output2,overwrite=True,method=\"count\",size=\"19\")\n",
    "    gscript.run_command(\"r.mapcalc\",expression=output3+'='+'float('+output+'@PERMANENT)/'+'float('+output2+'@PERMANENT)',overwrite=True)\n",
    "\n"
   ]
  },
  {
   "cell_type": "code",
   "execution_count": 53,
   "metadata": {
    "collapsed": false
   },
   "outputs": [
    {
     "data": {
      "text/plain": [
       "0"
      ]
     },
     "execution_count": 53,
     "metadata": {},
     "output_type": "execute_result"
    }
   ],
   "source": [
    "gscript.run_command(\"r.neighbors\", input='City1_SRTM',output='1km'+'_City1_SRTM',overwrite=True,size=\"19\")\n",
    "gscript.run_command(\"r.neighbors\", input='City1_NDWI',output='1km'+'_City1_NDWI',overwrite=True,size=\"19\")\n",
    "gscript.run_command(\"r.neighbors\", input='City1_NDWI_STD',output='1km'+'_City1_NDWI_STD',overwrite=True,size=\"19\")\n",
    "gscript.run_command(\"r.neighbors\", input='City1_NDVI',output='1km'+'_City1_NDVI',overwrite=True,size=\"19\")\n",
    "gscript.run_command(\"r.neighbors\", input='City1_NDVI_STD',output='1km'+'_City1_NDVI_STD',overwrite=True,size=\"19\")\n",
    "gscript.run_command(\"r.neighbors\", input='Precip_max',output='1km'+'_Precip_max_',overwrite=True,size=\"19\")\n",
    "gscript.run_command(\"r.neighbors\", input='Precip_min',output='1km'+'_Precip_min',overwrite=True,size=\"19\")\n",
    "gscript.run_command(\"r.neighbors\", input='Precip_mean',output='1km'+'_Precip_mean_',overwrite=True,size=\"19\")"
   ]
  },
  {
   "cell_type": "code",
   "execution_count": 54,
   "metadata": {
    "collapsed": false
   },
   "outputs": [
    {
     "name": "stdout",
     "output_type": "stream",
     "text": [
      "['1km_1@PERMANENT', '1km_10@PERMANENT', '1km_11@PERMANENT', '1km_12@PERMANENT', '1km_13@PERMANENT', '1km_14@PERMANENT', '1km_15@PERMANENT', '1km_16@PERMANENT', '1km_17@PERMANENT', '1km_18@PERMANENT', '1km_2@PERMANENT', '1km_3@PERMANENT', '1km_5@PERMANENT', '1km_6@PERMANENT', '1km_7@PERMANENT', '1km_8@PERMANENT', '1km_9@PERMANENT', '1km_City1_NDVI@PERMANENT', '1km_City1_NDVI_STD@PERMANENT', '1km_City1_NDWI@PERMANENT', '1km_City1_NDWI_STD@PERMANENT', '1km_City1_SRTM@PERMANENT', '1km_Precip_max_@PERMANENT', '1km_Precip_mean_@PERMANENT', '1km_Precip_min@PERMANENT', '1km_mean_Dist_lcz_1@PERMANENT', '1km_mean_Dist_lcz_10@PERMANENT', '1km_mean_Dist_lcz_11@PERMANENT', '1km_mean_Dist_lcz_12@PERMANENT', '1km_mean_Dist_lcz_13@PERMANENT', '1km_mean_Dist_lcz_14@PERMANENT', '1km_mean_Dist_lcz_15@PERMANENT', '1km_mean_Dist_lcz_16@PERMANENT', '1km_mean_Dist_lcz_17@PERMANENT', '1km_mean_Dist_lcz_18@PERMANENT', '1km_mean_Dist_lcz_2@PERMANENT', '1km_mean_Dist_lcz_3@PERMANENT', '1km_mean_Dist_lcz_5@PERMANENT', '1km_mean_Dist_lcz_6@PERMANENT', '1km_mean_Dist_lcz_7@PERMANENT', '1km_mean_Dist_lcz_8@PERMANENT', '1km_mean_Dist_lcz_9@PERMANENT']\n"
     ]
    }
   ],
   "source": [
    "list_extract=gscript.list_strings(\"rast\", pattern=\"1km\", mapset=\"PERMANENT\", flag='r')[:]\n",
    "print list_extract"
   ]
  },
  {
   "cell_type": "code",
   "execution_count": 55,
   "metadata": {
    "collapsed": true
   },
   "outputs": [],
   "source": [
    "outputfolder='C:\\\\Users\\\\Stefanos\\\\Dropbox\\\\LCZ_Africa\\\\test_data'\n",
    "outputfile=os.path.join(outputfolder,\"City1_testdata.csv\")"
   ]
  },
  {
   "cell_type": "code",
   "execution_count": 56,
   "metadata": {
    "collapsed": false
   },
   "outputs": [
    {
     "data": {
      "text/plain": [
       "0"
      ]
     },
     "execution_count": 56,
     "metadata": {},
     "output_type": "execute_result"
    }
   ],
   "source": [
    "gscript.run_command(\"i.segment.stats\",processes=5, overwrite=True, map='Empty_grid_100m@PERMANENT',rasters=list_extract,flags='s', raster_statistics='mean',csvfile=outputfile)"
   ]
  }
 ],
 "metadata": {
  "kernelspec": {
   "display_name": "Python 2",
   "language": "python",
   "name": "python2"
  },
  "language_info": {
   "codemirror_mode": {
    "name": "ipython",
    "version": 2
   },
   "file_extension": ".py",
   "mimetype": "text/x-python",
   "name": "python",
   "nbconvert_exporter": "python",
   "pygments_lexer": "ipython2",
   "version": "2.7.13"
  }
 },
 "nbformat": 4,
 "nbformat_minor": 2
}
